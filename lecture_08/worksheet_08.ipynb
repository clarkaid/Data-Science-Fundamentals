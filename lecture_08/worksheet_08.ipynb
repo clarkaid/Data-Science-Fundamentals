{
 "cells": [
  {
   "attachments": {},
   "cell_type": "markdown",
   "metadata": {},
   "source": [
    "# Worksheet 08\n",
    "\n",
    "Name:  Aidan Clark\n",
    "\n",
    "UID: U01817265\n",
    "\n",
    "### Topics\n",
    "\n",
    "- Soft Clustering\n",
    "- Clustering Aggregation\n",
    "\n",
    "### Probability Review\n",
    "\n",
    "Read through [the following](https://medium.com/@gallettilance/overview-of-probability-3272b72c82c8)\n",
    "\n",
    "### Soft Clustering\n",
    "\n",
    "We generate 10 data points that come from a normal distribution with mean 5 and variance 1."
   ]
  },
  {
   "cell_type": "code",
   "execution_count": 13,
   "metadata": {},
   "outputs": [
    {
     "name": "stdout",
     "output_type": "stream",
     "text": [
      "[4.345646458289913, 3.344686709817138, 5.769146039387756, 5.938297231660819, 6.273314986703041, 4.9130037506300805, 5.756818514873793, 3.4482998959435553, 6.344382598958948, 5.630704872560143]\n"
     ]
    }
   ],
   "source": [
    "import random\n",
    "import numpy as np\n",
    "from sklearn.cluster import KMeans\n",
    "\n",
    "mean = 5\n",
    "stdev = 1\n",
    "\n",
    "s1 = np.random.normal(mean, stdev, 10).tolist()\n",
    "print(s1)"
   ]
  },
  {
   "cell_type": "markdown",
   "metadata": {},
   "source": [
    "a) Generate 10 more data points, this time coming from a normal distribution with mean 8 and variance 1."
   ]
  },
  {
   "cell_type": "code",
   "execution_count": 14,
   "metadata": {},
   "outputs": [
    {
     "name": "stdout",
     "output_type": "stream",
     "text": [
      "[8.460635140762712, 6.443005128668924, 7.996215667886662, 7.175117006599108, 8.476174511709052, 7.831009600931495, 7.216737976260395, 7.83066005576512, 8.820593730979837, 6.839089920487453]\n"
     ]
    }
   ],
   "source": [
    "s2 = np.random.normal( 8 , 1 , 10 ).tolist()\n",
    "print(s2)"
   ]
  },
  {
   "attachments": {},
   "cell_type": "markdown",
   "metadata": {},
   "source": [
    "b) Flip a fair coin 10 times. If the coin lands on H, then pick the last data point of `s1` and remove it from `s1`, if T then pick the last data point from `s2` and remove it from `s2`. Add these 10 points to a list called `data`."
   ]
  },
  {
   "cell_type": "code",
   "execution_count": 15,
   "metadata": {},
   "outputs": [
    {
     "name": "stdout",
     "output_type": "stream",
     "text": [
      "[5.630704872560143, 6.344382598958948, 6.839089920487453, 3.4482998959435553, 5.756818514873793, 8.820593730979837, 4.9130037506300805, 6.273314986703041, 7.83066005576512, 5.938297231660819]\n"
     ]
    }
   ],
   "source": [
    "data = []\n",
    "for i in range(10):\n",
    "    # flip coin\n",
    "    coin_output = random.choice([0, 1])\n",
    "    if coin_output == 0:\n",
    "        p1 = s1.pop()\n",
    "        data.append(p1)\n",
    "    else:\n",
    "        p2 = s2.pop()\n",
    "        data.append(p2)\n",
    "print(data)"
   ]
  },
  {
   "cell_type": "markdown",
   "metadata": {},
   "source": [
    "c) This `data` is a Gaussian Mixture Distribution with 2 mixture components. Over the next few questions we will walk through the GMM algorithm to see if we can uncover the parameters we used to generate this data. First, please list all these parameters of the GMM that created `data` and the values we know they have."
   ]
  },
  {
   "cell_type": "markdown",
   "metadata": {},
   "source": [
    "Prior probability of being from s1 = 0.5\n",
    "\n",
    "Prior probability of being from s2 = 0.5\n",
    "\n",
    "Mean of s1 = 5\n",
    "\n",
    "Variance of s1 = 1\n",
    "\n",
    "Mean of s2 = 8\n",
    "\n",
    "Variance of s2 = 1\n"
   ]
  },
  {
   "cell_type": "markdown",
   "metadata": {},
   "source": [
    "d) Let's assume there are two mixture components (note: we could plot the data and make the observation that there are two clusters). The EM algorithm asks us to start with a random `mean_j`, `variance_j`, `P(S_j)` for each component j. One method we could use to find sensible values for these is to apply K means with k=2 here.\n",
    "\n",
    "1. the centroids would be the estimates of the `mean_j`\n",
    "2. the intra-cluster variance could be the estimate of `variance_j`\n",
    "3. the proportion of points in each cluster could be the estimate of `P(S_j)`\n",
    "\n",
    "Go through this process and list the parameter estimates it gives. Are they close or far from the true values?"
   ]
  },
  {
   "cell_type": "code",
   "execution_count": 16,
   "metadata": {},
   "outputs": [
    {
     "name": "stdout",
     "output_type": "stream",
     "text": [
      "[5.630704872560143, 6.344382598958948, 3.4482998959435553, 5.756818514873793, 4.9130037506300805, 6.273314986703041, 5.938297231660819]\n",
      "[6.839089920487453, 8.820593730979837, 7.83066005576512]\n",
      "P(S_1) = 0.7,  P(S_2) = 0.3\n",
      "mean_1 = 5.472117407332911,  mean_2 = 7.83011456907747\n",
      "var_1 = 0.8763911228001973,  var_2 = 0.6543930406105031\n"
     ]
    }
   ],
   "source": [
    "kmeans = KMeans(2, init='k-means++').fit(X=np.array(data).reshape(-1, 1))\n",
    "\n",
    "s1 = [x[0] for x in filter(lambda x: x[1] == 0, zip(data, kmeans.labels_))]\n",
    "#Take everything in data that was assigned to s1\n",
    "print(s1)\n",
    "s2 = [x[0] for x in filter(lambda x: x[1] == 1, zip(data, kmeans.labels_))]\n",
    "print(s2)\n",
    "\n",
    "prob_s = [ len(s1) / (len(s1) + len(s2)) , len(s2) / (len(s1) + len(s2)) ]\n",
    "mean = [ sum(s1)/len(s1) , sum(s2)/len(s2) ]\n",
    "var = [ sum(map(lambda x : (x - mean[0])**2, s1)) / len(s1) , sum(map(lambda x : (x - mean[1])**2, s2)) / len(s2) ]\n",
    "\n",
    "print(\"P(S_1) = \" + str(prob_s[0]) + \",  P(S_2) = \" + str(prob_s[1]))\n",
    "print(\"mean_1 = \" + str(mean[0]) + \",  mean_2 = \" + str(mean[1]))\n",
    "print(\"var_1 = \" + str(var[0]) + \",  var_2 = \" + str(var[1]))"
   ]
  },
  {
   "cell_type": "markdown",
   "metadata": {},
   "source": [
    "These values seem reasonably close. Our probabilities are off, but the means are pretty close to the actual means, and the variances are pretty close as well."
   ]
  },
  {
   "cell_type": "markdown",
   "metadata": {},
   "source": [
    "e) For each data point, compute `P(S_j | X_i)`. Comment on which cluster you think each point belongs to based on the estimated probabilities. How does that compare to the truth?"
   ]
  },
  {
   "cell_type": "code",
   "execution_count": 18,
   "metadata": {},
   "outputs": [
    {
     "name": "stdout",
     "output_type": "stream",
     "text": [
      "point =  5.630704872560143\n",
      "probability of observing that point if it came from cluster 0 =  0.6691921397461968\n",
      "probability of observing that point if it came from cluster 1 =  0.04635100480838295\n",
      "point =  6.344382598958948\n",
      "probability of observing that point if it came from cluster 0 =  0.5266866629010593\n",
      "probability of observing that point if it came from cluster 1 =  0.21521423793754219\n",
      "point =  6.839089920487453\n",
      "probability of observing that point if it came from cluster 0 =  0.3672465058980412\n",
      "probability of observing that point if it came from cluster 1 =  0.4400745086738962\n",
      "point =  3.4482998959435553\n",
      "probability of observing that point if it came from cluster 0 =  0.17787545597923826\n",
      "probability of observing that point if it came from cluster 1 =  1.0580012633393337e-05\n",
      "point =  5.756818514873793\n",
      "probability of observing that point if it came from cluster 0 =  0.6571251725171556\n",
      "probability of observing that point if it came from cluster 1 =  0.06348607022925747\n",
      "point =  8.820593730979837\n",
      "probability of observing that point if it came from cluster 0 =  0.017544034911276138\n",
      "probability of observing that point if it came from cluster 1 =  0.44035229123426256\n",
      "point =  4.9130037506300805\n",
      "probability of observing that point if it came from cluster 0 =  0.6094184272534505\n",
      "probability of observing that point if it came from cluster 1 =  0.00543282386747362\n",
      "point =  6.273314986703041\n",
      "probability of observing that point if it came from cluster 0 =  0.5474748790293944\n",
      "probability of observing that point if it came from cluster 1 =  0.1896920528383746\n",
      "point =  7.83066005576512\n",
      "probability of observing that point if it came from cluster 0 =  0.11034588095110495\n",
      "probability of observing that point if it came from cluster 1 =  0.7807924792343559\n",
      "point =  5.938297231660819\n",
      "probability of observing that point if it came from cluster 0 =  0.6286154479785718\n",
      "probability of observing that point if it came from cluster 1 =  0.09663220727891875\n",
      "5.630704872560143\n",
      "Probability of coming from S_1 = 0.9711711505795119\n",
      "Probability of coming from S_2 = 0.028828849420488082\n",
      "\n",
      "6.344382598958948\n",
      "Probability of coming from S_1 = 0.8509751272225172\n",
      "Probability of coming from S_2 = 0.14902487277748278\n",
      "\n",
      "6.839089920487453\n",
      "Probability of coming from S_1 = 0.66069370141226\n",
      "Probability of coming from S_2 = 0.33930629858773986\n",
      "\n",
      "3.4482998959435553\n",
      "Probability of coming from S_1 = 0.9999745092681773\n",
      "Probability of coming from S_2 = 2.5490731822647927e-05\n",
      "\n",
      "5.756818514873793\n",
      "Probability of coming from S_1 = 0.9602411451776993\n",
      "Probability of coming from S_2 = 0.03975885482230067\n",
      "\n",
      "8.820593730979837\n",
      "Probability of coming from S_1 = 0.08505520553200469\n",
      "Probability of coming from S_2 = 0.9149447944679953\n",
      "\n",
      "4.9130037506300805\n",
      "Probability of coming from S_1 = 0.9961939267015547\n",
      "Probability of coming from S_2 = 0.003806073298445348\n",
      "\n",
      "6.273314986703041\n",
      "Probability of coming from S_1 = 0.870705657697238\n",
      "Probability of coming from S_2 = 0.12929434230276207\n",
      "\n",
      "7.83066005576512\n",
      "Probability of coming from S_1 = 0.24798430485243061\n",
      "Probability of coming from S_2 = 0.7520156951475694\n",
      "\n",
      "5.938297231660819\n",
      "Probability of coming from S_1 = 0.938191052029947\n",
      "Probability of coming from S_2 = 0.061808947970053076\n",
      "\n"
     ]
    }
   ],
   "source": [
    "from scipy.stats import norm\n",
    "\n",
    "prob_s0_x = [] # P(S_0 | X_i) #List of probabilities, one for each of the n datapoints\n",
    "prob_s1_x = [] # P(S_1 | X_i)\n",
    "prob_x = [] # P(X_i)\n",
    "\n",
    "k = 2\n",
    "\n",
    "for p in data:\n",
    "    print(\"point = \", p)\n",
    "    pdf_i = []\n",
    "\n",
    "    for j in range(k):\n",
    "        # P(X_i | S_j)\n",
    "        pdf_i.append(norm.pdf(p, mean[j], (var[j]))**(1/2)) #Changed to sqrt because norm.pdf takes stdev not var\n",
    "        print(\"probability of observing that point if it came from cluster \" + str(j) + \" = \", pdf_i[j])\n",
    "        # P(S_j) already computed\n",
    "        prob_s[j]\n",
    "\n",
    "    #pdf_i[0] is prob of point p given species_0\n",
    "\n",
    "    # P(X_i) = P(S_0)P(X_i | S_0) + P(S_1)P(X_i | S_1)\n",
    "    prob_x = prob_s[0] * pdf_i[0] + prob_s[1] * pdf_i[1]\n",
    "\n",
    "    # P(S_j | X_i) = P(X_i | S_j)P(S_j) / P(X_i)\n",
    "    prob_s0_x.append( prob_s[0] * pdf_i[0] / prob_x )\n",
    "    prob_s1_x.append( prob_s[1] * pdf_i[1] / prob_x )\n",
    "\n",
    "probs = zip(data, prob_s0_x, prob_s1_x)\n",
    "for p in probs:\n",
    "    print(p[0])\n",
    "    print(\"Probability of coming from S_1 = \" + str(p[1]))\n",
    "    print(\"Probability of coming from S_2 = \" + str(p[2]))\n",
    "    print()\n"
   ]
  },
  {
   "cell_type": "markdown",
   "metadata": {},
   "source": [
    "In general, it looks like these estimates are pretty good-- points that are closer to 5 have higher estimated probabilities of being from s1 and points that are closer to 8 have higher probabilities of being from s2. Picking the higher probability for each point, we predict that s1 was at least the source of 5.63, 6.34, 3.45, 5.76, 4.91, and 6.27 and that s2 was at least the source of 6.84, 8.82, and 7.83. These estimates seem pretty reasonable, although potentially there are some points in the middle that are incorrectly labeled s1."
   ]
  },
  {
   "cell_type": "markdown",
   "metadata": {},
   "source": [
    "f) Having computed `P(S_j | X_i)`, update the estimates of `mean_j`, `var_j`, and `P(S_j)`. How different are these values from the original ones you got from K means? briefly comment."
   ]
  },
  {
   "cell_type": "code",
   "execution_count": 19,
   "metadata": {},
   "outputs": [
    {
     "name": "stdout",
     "output_type": "stream",
     "text": [
      "P(S_1) = 0.7,  P(S_2) = 0.3\n",
      "mean_1 = 5.669544537869476,  mean_2 = 7.777900003410774\n",
      "var_1 = 1.212462047349182,  var_2 = 1.0050482163905166\n"
     ]
    }
   ],
   "source": [
    "#Apply formulas from slide\n",
    "prob_c = [sum(prob_s0_x)/ len(prob_s0_x), sum(prob_s1_x)/ len(prob_s1_x) ]\n",
    "mean = [sum([x[0] * x[1] for x in zip(prob_s0_x, data)]) / sum(prob_s0_x), sum([x[0] * x[1] for x in zip(prob_s1_x, data)]) / sum(prob_s1_x) ]\n",
    "var = [ sum([x[0] * (x[1] - mean[0])**2 for x in zip(prob_s0_x, data)]) / sum(prob_s0_x) , sum([x[0] * (x[1] - mean[1])**2 for x in zip(prob_s1_x, data)]) / sum(prob_s1_x) ]\n",
    "\n",
    "print(\"P(S_1) = \" + str(prob_s[0]) + \",  P(S_2) = \" + str(prob_s[1]))\n",
    "print(\"mean_1 = \" + str(mean[0]) + \",  mean_2 = \" + str(mean[1]))\n",
    "print(\"var_1 = \" + str(var[0]) + \",  var_2 = \" + str(var[1]))"
   ]
  },
  {
   "cell_type": "markdown",
   "metadata": {},
   "source": [
    "Our incorrect probabilities have stayed the same, but the mean for s2 improved slightly (went from 7.83 to 7.77) and both of our variances are now pretty close to the actual variances (increased from 0.88 and 0.6). Our estimates would certainly benefit from further iterations, however."
   ]
  },
  {
   "cell_type": "markdown",
   "metadata": {},
   "source": [
    "g) Update `P(S_j | X_i)`. Comment on any differences or lack thereof you observe."
   ]
  },
  {
   "cell_type": "code",
   "execution_count": 31,
   "metadata": {},
   "outputs": [
    {
     "name": "stdout",
     "output_type": "stream",
     "text": [
      "point =  5.630704872560143\n",
      "probability of observing that point if it came from cluster 0 =  0.5734684669536233\n",
      "probability of observing that point if it came from cluster 1 =  0.2012818685076826\n",
      "point =  6.344382598958948\n",
      "probability of observing that point if it came from cluster 0 =  0.5308676826661284\n",
      "probability of observing that point if it came from cluster 1 =  0.3788624362108011\n",
      "point =  6.839089920487453\n",
      "probability of observing that point if it came from cluster 0 =  0.45456658954346957\n",
      "probability of observing that point if it came from cluster 1 =  0.5065561046569219\n",
      "point =  3.4482998959435553\n",
      "probability of observing that point if it came from cluster 0 =  0.2478671172694346\n",
      "probability of observing that point if it came from cluster 1 =  0.006088298198833917\n",
      "point =  5.756818514873793\n",
      "probability of observing that point if it came from cluster 0 =  0.5728730750840495\n",
      "probability of observing that point if it came from cluster 1 =  0.22924894496724646\n",
      "point =  8.820593730979837\n",
      "probability of observing that point if it came from cluster 0 =  0.10599680287932672\n",
      "probability of observing that point if it came from cluster 1 =  0.4813955572592979\n",
      "point =  4.9130037506300805\n",
      "probability of observing that point if it came from cluster 0 =  0.520413992372655\n",
      "probability of observing that point if it came from cluster 1 =  0.08263404316735475\n",
      "point =  6.273314986703041\n",
      "probability of observing that point if it came from cluster 0 =  0.5391348971315889\n",
      "probability of observing that point if it came from cluster 1 =  0.3597809135011519\n",
      "point =  7.83066005576512\n",
      "probability of observing that point if it came from cluster 0 =  0.259227232954441\n",
      "probability of observing that point if it came from cluster 1 =  0.6295966155179963\n",
      "point =  5.938297231660819\n",
      "probability of observing that point if it came from cluster 0 =  0.5666128989277769\n",
      "probability of observing that point if it came from cluster 1 =  0.27265611420250496\n",
      "5.630704872560143\n",
      "Probability of coming from S_1 = 0.869244418032793\n",
      "Probability of coming from S_2 = 0.130755581967207\n",
      "\n",
      "6.344382598958948\n",
      "Probability of coming from S_1 = 0.7657806122895972\n",
      "Probability of coming from S_2 = 0.23421938771040285\n",
      "\n",
      "6.839089920487453\n",
      "Probability of coming from S_1 = 0.6767787174622933\n",
      "Probability of coming from S_2 = 0.32322128253770666\n",
      "\n",
      "3.4482998959435553\n",
      "Probability of coming from S_1 = 0.989582767947719\n",
      "Probability of coming from S_2 = 0.010417232052281004\n",
      "\n",
      "5.756818514873793\n",
      "Probability of coming from S_1 = 0.853604178302644\n",
      "Probability of coming from S_2 = 0.1463958216973559\n",
      "\n",
      "8.820593730979837\n",
      "Probability of coming from S_1 = 0.33939700821806545\n",
      "Probability of coming from S_2 = 0.6606029917819345\n",
      "\n",
      "4.9130037506300805\n",
      "Probability of coming from S_1 = 0.9362850507215281\n",
      "Probability of coming from S_2 = 0.06371494927847181\n",
      "\n",
      "6.273314986703041\n",
      "Probability of coming from S_1 = 0.7776058296240983\n",
      "Probability of coming from S_2 = 0.22239417037590165\n",
      "\n",
      "7.83066005576512\n",
      "Probability of coming from S_1 = 0.4899822315950239\n",
      "Probability of coming from S_2 = 0.5100177684049761\n",
      "\n",
      "5.938297231660819\n",
      "Probability of coming from S_1 = 0.8290292383847923\n",
      "Probability of coming from S_2 = 0.17097076161520766\n",
      "\n"
     ]
    }
   ],
   "source": [
    "#Repeating the code from before\n",
    "prob_s0_x = [] # P(S_0 | X_i) #List of probabilities, one for each of the n datapoints\n",
    "prob_s1_x = [] # P(S_1 | X_i)\n",
    "prob_x = [] # P(X_i)\n",
    "\n",
    "k = 2\n",
    "\n",
    "for p in data:\n",
    "    print(\"point = \", p)\n",
    "    pdf_i = []\n",
    "\n",
    "    for j in range(k):\n",
    "        # P(X_i | S_j)\n",
    "        pdf_i.append(norm.pdf(p, mean[j], (var[j]))**(1/2)) #Changed to sqrt because norm.pdf takes stdev not var\n",
    "        print(\"probability of observing that point if it came from cluster \" + str(j) + \" = \", pdf_i[j])\n",
    "        # P(S_j) already computed\n",
    "        prob_s[j]\n",
    "\n",
    "    #pdf_i[0] is prob of point p given species_0\n",
    "\n",
    "    # P(X_i) = P(S_0)P(X_i | S_0) + P(S_1)P(X_i | S_1)\n",
    "    prob_x = prob_s[0] * pdf_i[0] + prob_s[1] * pdf_i[1]\n",
    "\n",
    "    # P(S_j | X_i) = P(X_i | S_j)P(S_j) / P(X_i)\n",
    "    prob_s0_x.append( prob_s[0] * pdf_i[0] / prob_x )\n",
    "    prob_s1_x.append( prob_s[1] * pdf_i[1] / prob_x )\n",
    "\n",
    "    probs = zip(data, prob_s0_x, prob_s1_x)\n",
    "for p in probs:\n",
    "    print(p[0])\n",
    "    print(\"Probability of coming from S_1 = \" + str(p[1]))\n",
    "    print(\"Probability of coming from S_2 = \" + str(p[2]))\n",
    "    print()\n",
    "\n"
   ]
  },
  {
   "cell_type": "markdown",
   "metadata": {},
   "source": [
    "These seem like more reasonable probabilities. Points like 3.45 that are clearly from s1 have near zero probabilities of being from s2. Points in the middle like 6.34 and 6.84 have sizable probabilities for s1 and s2, with the higher probability being that of the distribution whose mean is closest to the point"
   ]
  },
  {
   "cell_type": "markdown",
   "metadata": {},
   "source": [
    "h) Use `P(S_j | X_i)` to create a hard assignment - label each point as belonging to a specific cluster (0 or 1)"
   ]
  },
  {
   "cell_type": "code",
   "execution_count": 32,
   "metadata": {},
   "outputs": [
    {
     "name": "stdout",
     "output_type": "stream",
     "text": [
      "Point  5.630704872560143  assigned to  0\n",
      "\n",
      "Point  6.344382598958948  assigned to  0\n",
      "\n",
      "Point  6.839089920487453  assigned to  0\n",
      "\n",
      "Point  3.4482998959435553  assigned to  0\n",
      "\n",
      "Point  5.756818514873793  assigned to  0\n",
      "\n",
      "Point  8.820593730979837  assigned to  1\n",
      "\n",
      "Point  4.9130037506300805  assigned to  0\n",
      "\n",
      "Point  6.273314986703041  assigned to  0\n",
      "\n",
      "Point  7.83066005576512  assigned to  1\n",
      "\n",
      "Point  5.938297231660819  assigned to  0\n",
      "\n"
     ]
    }
   ],
   "source": [
    "probs = zip(data, prob_s0_x, prob_s1_x)\n",
    "for p in probs:\n",
    "    assignment = \"\"\n",
    "    if p[1] > p[2]:\n",
    "        assignment = \"0\"\n",
    "    else:\n",
    "        assignment = \"1\"\n",
    "\n",
    "    print(\"Point \", p[0], \" assigned to \", assignment)\n",
    "    print()\n",
    "    "
   ]
  }
 ],
 "metadata": {
  "kernelspec": {
   "display_name": "Python 3",
   "language": "python",
   "name": "python3"
  },
  "language_info": {
   "codemirror_mode": {
    "name": "ipython",
    "version": 3
   },
   "file_extension": ".py",
   "mimetype": "text/x-python",
   "name": "python",
   "nbconvert_exporter": "python",
   "pygments_lexer": "ipython3",
   "version": "3.12.2"
  },
  "orig_nbformat": 4,
  "vscode": {
   "interpreter": {
    "hash": "e7370f93d1d0cde622a1f8e1c04877d8463912d04d973331ad4851f04de6915a"
   }
  }
 },
 "nbformat": 4,
 "nbformat_minor": 2
}
